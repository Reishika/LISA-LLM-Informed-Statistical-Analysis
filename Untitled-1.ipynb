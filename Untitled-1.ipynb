{
 "cells": [
  {
   "cell_type": "code",
   "execution_count": 2,
   "metadata": {},
   "outputs": [],
   "source": [
    "import numpy as np \n",
    "import pandas as pd \n",
    "import os\n",
    "# Create the data \n",
    "dataframe = pd.DataFrame({'Cars': np.repeat([1, 2, 3, 4, 5], 4), \n",
    "                          'Oil': np.tile([1, 2, 3, 4], 5), \n",
    "                          'Mileage': [36, 38, 30, 29, \n",
    "                                      34, 38, 30, 29, \n",
    "                                      34, 28, 38, 32, \n",
    "                                      38, 34, 20, 44, \n",
    "                                      26, 28, 34, 50]}) \n",
    "dataframe.to_csv(\"dataset_for_repeated_measure_anova.csv\")"
   ]
  }
 ],
 "metadata": {
  "kernelspec": {
   "display_name": "Python 3",
   "language": "python",
   "name": "python3"
  },
  "language_info": {
   "codemirror_mode": {
    "name": "ipython",
    "version": 3
   },
   "file_extension": ".py",
   "mimetype": "text/x-python",
   "name": "python",
   "nbconvert_exporter": "python",
   "pygments_lexer": "ipython3",
   "version": "3.11.1"
  }
 },
 "nbformat": 4,
 "nbformat_minor": 2
}
